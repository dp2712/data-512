{
 "cells": [
  {
   "cell_type": "markdown",
   "metadata": {},
   "source": [
    "# The objective of this analysis to determine whether the Wikipedia Talk corpus contains bias or the characteristics of that bias and highlight its potential consequences"
   ]
  },
  {
   "cell_type": "markdown",
   "metadata": {},
   "source": [
    "## Step 1 - Data gathering and preparation"
   ]
  },
  {
   "cell_type": "markdown",
   "metadata": {},
   "source": [
    "Data source link - https://figshare.com/projects/Wikipedia_Talk/16731 \n",
    "\n",
    "For purpose of this analysis, we will be analyzing Toxicity and Aggression datasets\n"
   ]
  },
  {
   "cell_type": "code",
   "execution_count": 2,
   "metadata": {},
   "outputs": [],
   "source": [
    "import pandas as pd\n",
    "import numpy as np\n",
    "import matplotlib.pyplot as plt\n",
    "import seaborn as sns"
   ]
  },
  {
   "cell_type": "code",
   "execution_count": 48,
   "metadata": {},
   "outputs": [],
   "source": [
    "ag_workr_demo = pd.read_csv('/Users/dpandey/Desktop/Stats/Data 512/Week 3/Aggression/aggression_worker_demographics.tsv', sep='\\t')\n",
    "ag_anno = pd.read_csv('/Users/dpandey/Desktop/Stats/Data 512/Week 3/Aggression/aggression_annotations.tsv', sep='\\t')"
   ]
  },
  {
   "cell_type": "code",
   "execution_count": 14,
   "metadata": {},
   "outputs": [
    {
     "data": {
      "text/html": [
       "<div>\n",
       "<style scoped>\n",
       "    .dataframe tbody tr th:only-of-type {\n",
       "        vertical-align: middle;\n",
       "    }\n",
       "\n",
       "    .dataframe tbody tr th {\n",
       "        vertical-align: top;\n",
       "    }\n",
       "\n",
       "    .dataframe thead th {\n",
       "        text-align: right;\n",
       "    }\n",
       "</style>\n",
       "<table border=\"1\" class=\"dataframe\">\n",
       "  <thead>\n",
       "    <tr style=\"text-align: right;\">\n",
       "      <th></th>\n",
       "      <th>worker_id</th>\n",
       "      <th>gender</th>\n",
       "      <th>english_first_language</th>\n",
       "      <th>age_group</th>\n",
       "      <th>education</th>\n",
       "    </tr>\n",
       "  </thead>\n",
       "  <tbody>\n",
       "    <tr>\n",
       "      <th>0</th>\n",
       "      <td>833</td>\n",
       "      <td>female</td>\n",
       "      <td>0</td>\n",
       "      <td>45-60</td>\n",
       "      <td>bachelors</td>\n",
       "    </tr>\n",
       "    <tr>\n",
       "      <th>1</th>\n",
       "      <td>1072</td>\n",
       "      <td>male</td>\n",
       "      <td>0</td>\n",
       "      <td>30-45</td>\n",
       "      <td>bachelors</td>\n",
       "    </tr>\n",
       "    <tr>\n",
       "      <th>2</th>\n",
       "      <td>872</td>\n",
       "      <td>male</td>\n",
       "      <td>0</td>\n",
       "      <td>18-30</td>\n",
       "      <td>hs</td>\n",
       "    </tr>\n",
       "    <tr>\n",
       "      <th>3</th>\n",
       "      <td>2116</td>\n",
       "      <td>male</td>\n",
       "      <td>0</td>\n",
       "      <td>30-45</td>\n",
       "      <td>professional</td>\n",
       "    </tr>\n",
       "    <tr>\n",
       "      <th>4</th>\n",
       "      <td>453</td>\n",
       "      <td>male</td>\n",
       "      <td>0</td>\n",
       "      <td>30-45</td>\n",
       "      <td>hs</td>\n",
       "    </tr>\n",
       "  </tbody>\n",
       "</table>\n",
       "</div>"
      ],
      "text/plain": [
       "   worker_id  gender  english_first_language age_group     education\n",
       "0        833  female                       0     45-60     bachelors\n",
       "1       1072    male                       0     30-45     bachelors\n",
       "2        872    male                       0     18-30            hs\n",
       "3       2116    male                       0     30-45  professional\n",
       "4        453    male                       0     30-45            hs"
      ]
     },
     "execution_count": 14,
     "metadata": {},
     "output_type": "execute_result"
    }
   ],
   "source": [
    "ag_workr_demo.head(5)"
   ]
  },
  {
   "cell_type": "code",
   "execution_count": 15,
   "metadata": {},
   "outputs": [
    {
     "data": {
      "text/html": [
       "<div>\n",
       "<style scoped>\n",
       "    .dataframe tbody tr th:only-of-type {\n",
       "        vertical-align: middle;\n",
       "    }\n",
       "\n",
       "    .dataframe tbody tr th {\n",
       "        vertical-align: top;\n",
       "    }\n",
       "\n",
       "    .dataframe thead th {\n",
       "        text-align: right;\n",
       "    }\n",
       "</style>\n",
       "<table border=\"1\" class=\"dataframe\">\n",
       "  <thead>\n",
       "    <tr style=\"text-align: right;\">\n",
       "      <th></th>\n",
       "      <th>rev_id</th>\n",
       "      <th>worker_id</th>\n",
       "      <th>aggression</th>\n",
       "      <th>aggression_score</th>\n",
       "    </tr>\n",
       "  </thead>\n",
       "  <tbody>\n",
       "    <tr>\n",
       "      <th>0</th>\n",
       "      <td>37675</td>\n",
       "      <td>1362</td>\n",
       "      <td>1.0</td>\n",
       "      <td>-1.0</td>\n",
       "    </tr>\n",
       "    <tr>\n",
       "      <th>1</th>\n",
       "      <td>37675</td>\n",
       "      <td>2408</td>\n",
       "      <td>0.0</td>\n",
       "      <td>1.0</td>\n",
       "    </tr>\n",
       "    <tr>\n",
       "      <th>2</th>\n",
       "      <td>37675</td>\n",
       "      <td>1493</td>\n",
       "      <td>0.0</td>\n",
       "      <td>0.0</td>\n",
       "    </tr>\n",
       "    <tr>\n",
       "      <th>3</th>\n",
       "      <td>37675</td>\n",
       "      <td>1439</td>\n",
       "      <td>0.0</td>\n",
       "      <td>0.0</td>\n",
       "    </tr>\n",
       "    <tr>\n",
       "      <th>4</th>\n",
       "      <td>37675</td>\n",
       "      <td>170</td>\n",
       "      <td>0.0</td>\n",
       "      <td>0.0</td>\n",
       "    </tr>\n",
       "  </tbody>\n",
       "</table>\n",
       "</div>"
      ],
      "text/plain": [
       "   rev_id  worker_id  aggression  aggression_score\n",
       "0   37675       1362         1.0              -1.0\n",
       "1   37675       2408         0.0               1.0\n",
       "2   37675       1493         0.0               0.0\n",
       "3   37675       1439         0.0               0.0\n",
       "4   37675        170         0.0               0.0"
      ]
     },
     "execution_count": 15,
     "metadata": {},
     "output_type": "execute_result"
    }
   ],
   "source": [
    "ag_anno.head(5)"
   ]
  },
  {
   "cell_type": "code",
   "execution_count": 37,
   "metadata": {
    "scrolled": true
   },
   "outputs": [
    {
     "data": {
      "text/html": [
       "<div>\n",
       "<style scoped>\n",
       "    .dataframe tbody tr th:only-of-type {\n",
       "        vertical-align: middle;\n",
       "    }\n",
       "\n",
       "    .dataframe tbody tr th {\n",
       "        vertical-align: top;\n",
       "    }\n",
       "\n",
       "    .dataframe thead th {\n",
       "        text-align: right;\n",
       "    }\n",
       "</style>\n",
       "<table border=\"1\" class=\"dataframe\">\n",
       "  <thead>\n",
       "    <tr style=\"text-align: right;\">\n",
       "      <th></th>\n",
       "      <th>rev_id</th>\n",
       "      <th>worker_id</th>\n",
       "      <th>aggression</th>\n",
       "      <th>aggression_score</th>\n",
       "      <th>gender</th>\n",
       "      <th>english_first_language</th>\n",
       "      <th>age_group</th>\n",
       "      <th>education</th>\n",
       "    </tr>\n",
       "  </thead>\n",
       "  <tbody>\n",
       "    <tr>\n",
       "      <th>0</th>\n",
       "      <td>37675</td>\n",
       "      <td>1362</td>\n",
       "      <td>1.0</td>\n",
       "      <td>-1.0</td>\n",
       "      <td>male</td>\n",
       "      <td>0.0</td>\n",
       "      <td>18-30</td>\n",
       "      <td>masters</td>\n",
       "    </tr>\n",
       "    <tr>\n",
       "      <th>1</th>\n",
       "      <td>37675</td>\n",
       "      <td>2408</td>\n",
       "      <td>0.0</td>\n",
       "      <td>1.0</td>\n",
       "      <td>male</td>\n",
       "      <td>1.0</td>\n",
       "      <td>30-45</td>\n",
       "      <td>hs</td>\n",
       "    </tr>\n",
       "    <tr>\n",
       "      <th>2</th>\n",
       "      <td>37675</td>\n",
       "      <td>1493</td>\n",
       "      <td>0.0</td>\n",
       "      <td>0.0</td>\n",
       "      <td>female</td>\n",
       "      <td>0.0</td>\n",
       "      <td>30-45</td>\n",
       "      <td>bachelors</td>\n",
       "    </tr>\n",
       "    <tr>\n",
       "      <th>3</th>\n",
       "      <td>37675</td>\n",
       "      <td>1439</td>\n",
       "      <td>0.0</td>\n",
       "      <td>0.0</td>\n",
       "      <td>male</td>\n",
       "      <td>0.0</td>\n",
       "      <td>18-30</td>\n",
       "      <td>hs</td>\n",
       "    </tr>\n",
       "    <tr>\n",
       "      <th>4</th>\n",
       "      <td>37675</td>\n",
       "      <td>170</td>\n",
       "      <td>0.0</td>\n",
       "      <td>0.0</td>\n",
       "      <td>NaN</td>\n",
       "      <td>NaN</td>\n",
       "      <td>NaN</td>\n",
       "      <td>NaN</td>\n",
       "    </tr>\n",
       "  </tbody>\n",
       "</table>\n",
       "</div>"
      ],
      "text/plain": [
       "   rev_id  worker_id  aggression  aggression_score  gender  \\\n",
       "0   37675       1362         1.0              -1.0    male   \n",
       "1   37675       2408         0.0               1.0    male   \n",
       "2   37675       1493         0.0               0.0  female   \n",
       "3   37675       1439         0.0               0.0    male   \n",
       "4   37675        170         0.0               0.0     NaN   \n",
       "\n",
       "   english_first_language age_group  education  \n",
       "0                     0.0     18-30    masters  \n",
       "1                     1.0     30-45         hs  \n",
       "2                     0.0     30-45  bachelors  \n",
       "3                     0.0     18-30         hs  \n",
       "4                     NaN       NaN        NaN  "
      ]
     },
     "execution_count": 37,
     "metadata": {},
     "output_type": "execute_result"
    }
   ],
   "source": [
    "#Joining aggresion dataset to merge into one\n",
    "aggression = pd.merge(left=ag_anno, right=ag_workr_demo, how='left', left_on='worker_id', right_on='worker_id')\n",
    "aggression_data = pd.DataFrame(aggression)\n",
    "aggression_data.head(5)\n"
   ]
  },
  {
   "cell_type": "markdown",
   "metadata": {},
   "source": [
    "## Step 2 - Exploratory Data analysis "
   ]
  },
  {
   "cell_type": "markdown",
   "metadata": {},
   "source": [
    "### Age group Bias - Analyzing aggression dataset to determine if bias exists in age group of crowdworkers towards rating comments as 'aggressive' "
   ]
  },
  {
   "cell_type": "markdown",
   "metadata": {},
   "source": [
    "Distribution of age-group in aggression dataset suggests that crowdworker age-group was biased towards young age-group as we see 48% of crowdworkers belonging to age-group '18-30' years. This could potentially introduce bias as and next step should be to analyze if different age groups have bias in their average rating score"
   ]
  },
  {
   "cell_type": "code",
   "execution_count": 46,
   "metadata": {},
   "outputs": [
    {
     "data": {
      "text/plain": [
       "age_group\n",
       "18-30       0.486775\n",
       "30-45       0.385615\n",
       "45-60       0.101160\n",
       "Over 60     0.009281\n",
       "Under 18    0.017169\n",
       "Name: age_group, dtype: float64"
      ]
     },
     "execution_count": 46,
     "metadata": {},
     "output_type": "execute_result"
    }
   ],
   "source": [
    "Count_age_grp = ag_workr_demo.groupby(\"age_group\").age_group.count()\n",
    "Count_age_grp/Count_age_grp.sum()"
   ]
  },
  {
   "cell_type": "code",
   "execution_count": 70,
   "metadata": {
    "scrolled": false
   },
   "outputs": [
    {
     "data": {
      "image/png": "[encoded data removed]",
      "text/plain": [
       "<Figure size 432x288 with 1 Axes>"
      ]
     },
     "metadata": {
      "needs_background": "light"
     },
     "output_type": "display_data"
    }
   ],
   "source": [
    "agg_age_grp_ct= pd.crosstab(index= aggression_data['age_group'],columns=aggression_data['aggression'])\n",
    "agg_age_grp = pd.DataFrame(agg_age_grp_ct)\n",
    "agg_age_grp.plot.bar()\n",
    "\n",
    "fig.savefig('Aggression_Age-group_distribution.png')"
   ]
  },
  {
   "cell_type": "code",
   "execution_count": 60,
   "metadata": {
    "scrolled": true
   },
   "outputs": [
    {
     "data": {
      "text/html": [
       "<div>\n",
       "<style scoped>\n",
       "    .dataframe tbody tr th:only-of-type {\n",
       "        vertical-align: middle;\n",
       "    }\n",
       "\n",
       "    .dataframe tbody tr th {\n",
       "        vertical-align: top;\n",
       "    }\n",
       "\n",
       "    .dataframe thead th {\n",
       "        text-align: right;\n",
       "    }\n",
       "</style>\n",
       "<table border=\"1\" class=\"dataframe\">\n",
       "  <thead>\n",
       "    <tr style=\"text-align: right;\">\n",
       "      <th></th>\n",
       "      <th>worker_id</th>\n",
       "      <th>gender</th>\n",
       "      <th>english_first_language</th>\n",
       "      <th>age_group</th>\n",
       "      <th>education</th>\n",
       "      <th>mean_aggression_score</th>\n",
       "    </tr>\n",
       "  </thead>\n",
       "  <tbody>\n",
       "    <tr>\n",
       "      <th>0</th>\n",
       "      <td>833</td>\n",
       "      <td>female</td>\n",
       "      <td>0</td>\n",
       "      <td>45-60</td>\n",
       "      <td>bachelors</td>\n",
       "      <td>-0.461388</td>\n",
       "    </tr>\n",
       "    <tr>\n",
       "      <th>1</th>\n",
       "      <td>1072</td>\n",
       "      <td>male</td>\n",
       "      <td>0</td>\n",
       "      <td>30-45</td>\n",
       "      <td>bachelors</td>\n",
       "      <td>-0.092138</td>\n",
       "    </tr>\n",
       "    <tr>\n",
       "      <th>2</th>\n",
       "      <td>872</td>\n",
       "      <td>male</td>\n",
       "      <td>0</td>\n",
       "      <td>18-30</td>\n",
       "      <td>hs</td>\n",
       "      <td>0.000000</td>\n",
       "    </tr>\n",
       "    <tr>\n",
       "      <th>3</th>\n",
       "      <td>2116</td>\n",
       "      <td>male</td>\n",
       "      <td>0</td>\n",
       "      <td>30-45</td>\n",
       "      <td>professional</td>\n",
       "      <td>-0.050242</td>\n",
       "    </tr>\n",
       "    <tr>\n",
       "      <th>4</th>\n",
       "      <td>453</td>\n",
       "      <td>male</td>\n",
       "      <td>0</td>\n",
       "      <td>30-45</td>\n",
       "      <td>hs</td>\n",
       "      <td>-0.233405</td>\n",
       "    </tr>\n",
       "  </tbody>\n",
       "</table>\n",
       "</div>"
      ],
      "text/plain": [
       "   worker_id  gender  english_first_language age_group     education  \\\n",
       "0        833  female                       0     45-60     bachelors   \n",
       "1       1072    male                       0     30-45     bachelors   \n",
       "2        872    male                       0     18-30            hs   \n",
       "3       2116    male                       0     30-45  professional   \n",
       "4        453    male                       0     30-45            hs   \n",
       "\n",
       "   mean_aggression_score  \n",
       "0              -0.461388  \n",
       "1              -0.092138  \n",
       "2               0.000000  \n",
       "3              -0.050242  \n",
       "4              -0.233405  "
      ]
     },
     "execution_count": 60,
     "metadata": {},
     "output_type": "execute_result"
    }
   ],
   "source": [
    "mean_aggression_score = aggression_data.groupby(\"worker_id\")[\"aggression_score\"].mean()\n",
    "ag_workr_demo[\"mean_aggression_score\"] = mean_aggression_score\n",
    "ag_workr_demo.head(5)"
   ]
  },
  {
   "cell_type": "code",
   "execution_count": 61,
   "metadata": {},
   "outputs": [
    {
     "data": {
      "text/plain": [
       "age_group\n",
       "18-30      -0.159801\n",
       "30-45      -0.167509\n",
       "45-60      -0.160936\n",
       "Over 60    -0.082218\n",
       "Under 18   -0.129005\n",
       "Name: mean_aggression_score, dtype: float64"
      ]
     },
     "execution_count": 61,
     "metadata": {},
     "output_type": "execute_result"
    }
   ],
   "source": [
    "ag_workr_demo.groupby(\"age_group\").mean_aggression_score.mean()"
   ]
  },
  {
   "cell_type": "markdown",
   "metadata": {},
   "source": [
    "By Plotting the distribution of average aggression rating among different age groups , we notice that over 60 age group is more biased towards rating comment as aggressive , whereas age group '18-30' seems pretty balanced in the rating spectrum. One thing that needs to be highlighted is small sample size of the other age-groups apart from '18-30' could potentially be introducing bias."
   ]
  },
  {
   "cell_type": "code",
   "execution_count": 71,
   "metadata": {},
   "outputs": [
    {
     "data": {
      "image/png": "[encoded data removed]",
      "text/plain": [
       "<Figure size 1080x576 with 1 Axes>"
      ]
     },
     "metadata": {
      "needs_background": "light"
     },
     "output_type": "display_data"
    }
   ],
   "source": [
    "fig, ax = plt.subplots(figsize=(15,8))\n",
    "ax.set_title(\"Distribution of worker's mean aggression rating, by age group\")\n",
    "sns.violinplot( x=\"mean_aggression_score\", y=\"age_group\", data=ag_workr_demo, ax=ax )\n",
    "fig.savefig('Mean_aggression_rating.png')"
   ]
  },
  {
   "cell_type": "markdown",
   "metadata": {},
   "source": [
    "### English first language Bias - Analyzing aggression dataset to determine if bias exists in crowdworkers towards rating comments as 'aggressive' if their first language is English"
   ]
  },
  {
   "cell_type": "markdown",
   "metadata": {},
   "source": [
    "By plotting count of comments rated by crowdworkers according to their first language, we notice that 86% of workers do not have english language as preffered language nad since all the comments are english language, their cpuld potentially be a lot bias introduced due to technical aspects of language and various perspective differences"
   ]
  },
  {
   "cell_type": "code",
   "execution_count": 72,
   "metadata": {
    "scrolled": true
   },
   "outputs": [
    {
     "data": {
      "image/png": "[encoded data removed]",
      "text/plain": [
       "<Figure size 432x288 with 1 Axes>"
      ]
     },
     "metadata": {
      "needs_background": "light"
     },
     "output_type": "display_data"
    }
   ],
   "source": [
    "agg_en_ct= pd.crosstab(index= aggresion_data['english_first_language'],columns=aggresion_data['aggression'])\n",
    "\n",
    "agg_en = pd.DataFrame(agg_en_ct)\n",
    "agg_en.plot.bar()\n",
    "fig.savefig('English_first_Language_distribution.png')"
   ]
  },
  {
   "cell_type": "code",
   "execution_count": 58,
   "metadata": {},
   "outputs": [
    {
     "data": {
      "text/html": [
       "<div>\n",
       "<style scoped>\n",
       "    .dataframe tbody tr th:only-of-type {\n",
       "        vertical-align: middle;\n",
       "    }\n",
       "\n",
       "    .dataframe tbody tr th {\n",
       "        vertical-align: top;\n",
       "    }\n",
       "\n",
       "    .dataframe thead tr th {\n",
       "        text-align: left;\n",
       "    }\n",
       "\n",
       "    .dataframe thead tr:last-of-type th {\n",
       "        text-align: right;\n",
       "    }\n",
       "</style>\n",
       "<table border=\"1\" class=\"dataframe\">\n",
       "  <thead>\n",
       "    <tr>\n",
       "      <th></th>\n",
       "      <th>english_first_language</th>\n",
       "    </tr>\n",
       "    <tr>\n",
       "      <th></th>\n",
       "      <th>count</th>\n",
       "    </tr>\n",
       "    <tr>\n",
       "      <th>english_first_language</th>\n",
       "      <th></th>\n",
       "    </tr>\n",
       "  </thead>\n",
       "  <tbody>\n",
       "    <tr>\n",
       "      <th>0.0</th>\n",
       "      <td>0.867033</td>\n",
       "    </tr>\n",
       "    <tr>\n",
       "      <th>1.0</th>\n",
       "      <td>0.132967</td>\n",
       "    </tr>\n",
       "  </tbody>\n",
       "</table>\n",
       "</div>"
      ],
      "text/plain": [
       "                       english_first_language\n",
       "                                        count\n",
       "english_first_language                       \n",
       "0.0                                  0.867033\n",
       "1.0                                  0.132967"
      ]
     },
     "execution_count": 58,
     "metadata": {},
     "output_type": "execute_result"
    }
   ],
   "source": [
    "\n",
    "Count_en_lang = aggression_data.groupby(['english_first_language']).agg({'english_first_language': ['count']})\n",
    "Count_en_lang/Count_en_lang.sum()\n"
   ]
  },
  {
   "cell_type": "markdown",
   "metadata": {},
   "source": [
    "We also notice that workers who do not have english as first language, rated 15% of the comments aggressive, whereas 2% of people who had their first language english, rated comments aggressive."
   ]
  },
  {
   "cell_type": "code",
   "execution_count": 57,
   "metadata": {},
   "outputs": [
    {
     "data": {
      "text/html": [
       "<div>\n",
       "<style scoped>\n",
       "    .dataframe tbody tr th:only-of-type {\n",
       "        vertical-align: middle;\n",
       "    }\n",
       "\n",
       "    .dataframe tbody tr th {\n",
       "        vertical-align: top;\n",
       "    }\n",
       "\n",
       "    .dataframe thead tr th {\n",
       "        text-align: left;\n",
       "    }\n",
       "\n",
       "    .dataframe thead tr:last-of-type th {\n",
       "        text-align: right;\n",
       "    }\n",
       "</style>\n",
       "<table border=\"1\" class=\"dataframe\">\n",
       "  <thead>\n",
       "    <tr>\n",
       "      <th></th>\n",
       "      <th></th>\n",
       "      <th>english_first_language</th>\n",
       "    </tr>\n",
       "    <tr>\n",
       "      <th></th>\n",
       "      <th></th>\n",
       "      <th>count</th>\n",
       "    </tr>\n",
       "    <tr>\n",
       "      <th>english_first_language</th>\n",
       "      <th>aggression</th>\n",
       "      <th></th>\n",
       "    </tr>\n",
       "  </thead>\n",
       "  <tbody>\n",
       "    <tr>\n",
       "      <th rowspan=\"2\" valign=\"top\">0.0</th>\n",
       "      <th>0.0</th>\n",
       "      <td>0.711734</td>\n",
       "    </tr>\n",
       "    <tr>\n",
       "      <th>1.0</th>\n",
       "      <td>0.155300</td>\n",
       "    </tr>\n",
       "    <tr>\n",
       "      <th rowspan=\"2\" valign=\"top\">1.0</th>\n",
       "      <th>0.0</th>\n",
       "      <td>0.105025</td>\n",
       "    </tr>\n",
       "    <tr>\n",
       "      <th>1.0</th>\n",
       "      <td>0.027942</td>\n",
       "    </tr>\n",
       "  </tbody>\n",
       "</table>\n",
       "</div>"
      ],
      "text/plain": [
       "                                  english_first_language\n",
       "                                                   count\n",
       "english_first_language aggression                       \n",
       "0.0                    0.0                      0.711734\n",
       "                       1.0                      0.155300\n",
       "1.0                    0.0                      0.105025\n",
       "                       1.0                      0.027942"
      ]
     },
     "execution_count": 57,
     "metadata": {},
     "output_type": "execute_result"
    }
   ],
   "source": [
    "\n",
    "\n",
    "Count_en_lang = aggression_data.groupby(['english_first_language', 'aggression']).agg({'english_first_language': ['count']})\n",
    "Count_en_lang/Count_en_lang.sum()\n"
   ]
  },
  {
   "cell_type": "code",
   "execution_count": 62,
   "metadata": {
    "scrolled": true
   },
   "outputs": [
    {
     "data": {
      "text/plain": [
       "english_first_language\n",
       "0   -0.161154\n",
       "1   -0.163210\n",
       "Name: mean_aggression_score, dtype: float64"
      ]
     },
     "execution_count": 62,
     "metadata": {},
     "output_type": "execute_result"
    }
   ],
   "source": [
    "ag_workr_demo.groupby(\"english_first_language\").mean_aggression_score.mean()"
   ]
  },
  {
   "cell_type": "markdown",
   "metadata": {},
   "source": [
    "When combining both age group and forst language, we can clearly observe that first language plays a major role in extreme age buckets 'Under 18' and 'Over 60'. The Mean aggression score for these groups are very different on the basis of their first language"
   ]
  },
  {
   "cell_type": "code",
   "execution_count": 73,
   "metadata": {
    "scrolled": true
   },
   "outputs": [
    {
     "data": {
      "image/png": "[encoded data removed]",
      "text/plain": [
       "<Figure size 432x288 with 1 Axes>"
      ]
     },
     "metadata": {
      "needs_background": "light"
     },
     "output_type": "display_data"
    }
   ],
   "source": [
    "ae = pd.DataFrame(ag_workr_demo.groupby(['age_group','english_first_language']).mean_aggression_score.mean())\n",
    "ae.plot.bar()\n",
    "fig.savefig('Mean aggression rating in age-groups for language bucket.png')"
   ]
  },
  {
   "cell_type": "markdown",
   "metadata": {},
   "source": [
    "### Final Results"
   ]
  },
  {
   "cell_type": "markdown",
   "metadata": {},
   "source": [
    "<ul>\n",
    "    <li>Distribution of age-group in aggression dataset suggests that crowdworker age-group was biased towards young age-group as we see 48% of crowdworkers belonging to age-group '18-30' years. This could potentially introduce bias due to theor view in political, gender, age or sexual orientation</li>\n",
    "    <li>the distribution of average aggression rating among different age groups , we notice that over 60 age group is more biased towards rating comment as aggressive , whereas age group '18-30' seems pretty balanced in the rating spectrum. </li>\n",
    "    <li>Distribution of comments rated by crowdworkers according to their first language, we notice that 86% of workers do not have english language as preffered language and since all the comments are english language, their could potentially be a lot bias introduced due to technical aspects of language and various perspective differences</li>\n",
    "    <li>When combining both age group and forst language, we can clearly observe that first language plays a major role in extreme age buckets 'Under 18' and 'Over 60'. The Mean aggression score for these groups are very different on the basis of their first language</li>\n",
    "    </ul>\n",
    "    \n",
    "**The above results clearly point the existence of bias in the data when viewed fom the lense of age-group' as well as 'first language as English'**"
   ]
  },
  {
   "cell_type": "markdown",
   "metadata": {},
   "source": [
    "## Step 3 - Discuss further Implications"
   ]
  },
  {
   "cell_type": "markdown",
   "metadata": {},
   "source": [
    "**Which, if any, of these demo applications would you expect the Perspective API—or any model trained on the Wikipedia Talk corpus—to perform well in? Why?** \\\n",
    "Comment Blur filter could perform well on model trained on the Wikipedia Talk as these comments are based on English language and comments being static metric here, the model could perform well. However, with the analysis that I perfomed for age-group and first language, this model can be influenced by bias in age-groups which are in extreme ends of the spectrum such as 'Under 18' and 'Over 60'.\n"
   ]
  },
  {
   "cell_type": "markdown",
   "metadata": {},
   "source": [
    "**Which, if any, of these demo applications would you expect the Perspective API to perform poorly in? Why?\n",
    "What are some other contexts or applications where you would expect the Perspective API to perform particularly well, or particularly poorly? Why?**\\\n",
    "I expect Toxicity timeline application to perform poorly if the model is trained on the Wikipedia talk corpus model. As the analysis suggests that there is a bias in the data towards tagging comments more aggressive in ceratin age groups, over time of the results would become bias towards rating comments more aggressive. Also, I would expect the model to lose accuracy the further we go from the context of a Wikipedia Talk page. The context is decisive, that is, whether it is used inside or outside Wikipedia. It would probably perform better not only within Wikipedia, but also within Talk pages on Wikipedia. The number of editors on Wikipedia is a small percentage of Wikipedia readers and the number of editors who also comment on a Talk page is an even smaller subset of that"
   ]
  },
  {
   "cell_type": "markdown",
   "metadata": {},
   "source": [
    "**What are some kinds of hostile speech that would be difficult to accurately detect using the approach used to train the Perspective API models?**\\\n",
    "According to the analysis results, topics which are concern older age groups could be difficult to accurately detect as it is shown in the data they majority of crowdworkers belong to younger generation, older age groups are not well represented and hence some topics which might get concerns from these age groups can not be by younger age and hence can get inaccurate aggression score\n"
   ]
  },
  {
   "cell_type": "markdown",
   "metadata": {},
   "source": [
    "**What are some potential unintended, negative consequences of using the Perspective API for any of these purposes? In your opinion, are these consequences likely or serious enough that you would recommend that the Perspective API not be used in these applications? Why or why not?** \\\n",
    "Potential bias introduced by the inaccurate sampling of crowdworkers which are not representation of true population can introduce a lot of bias into the system. Skewed annotator population i.e. demographics of crowd-workers might impact rating due to bias in political, gender, age or sexual orientation. Also, Topic biasing in the data - if all examples of a particular topic were rated as toxic by crowd-workers, the trained model will always consider comments related to that topic biased. This type of bias would be especially likely for controversial topics. Moreover the model will not performe well when- \n",
    "<ul>\n",
    "<li>When language is not English -  The dataset is based on English language, hence any model trained on this data cannot be applied to other languages. This is a very big limitation as only less than 5% of the world population has English as their native language.</li>\n",
    "\n",
    "<li>Identifying the sentiment of the user - As the dataset is customised to identify aggression, the model based on this data may not perform very well in identifying the sentiment of a comment, i.e whether the comment is in favour or against the premises. For example, a sports team may want to identify whether the user commenting on their website is a fan of their team or not. Since fans can be aggressive both while defending or attacking the team, the model based on this data may not be able to make that distinction. </li>\n",
    "\n",
    "<li>Identifying virality and controversial nature - Many of the NLP models used in media are focussed on identifying the topics which are controversial or have the potential to become viral. This dataset does not have enough depth to support these use cases. </li>\n",
    " </ul>\n",
    " I believe due to above reasons, I would not recommnd Perspective API be used in these applications"
   ]
  },
  {
   "cell_type": "markdown",
   "metadata": {},
   "source": [
    "\n",
    "**Imagine you are one of the Google data scientists who maintains the Perspective API. If you wanted to improve the model or the API itself to make it work better for any of these purposes, how should they go about doing that?**/\n",
    "\n",
    "To use the model effectively in a different context would require retraining on data from that context.\n",
    "The researchers claim that the model would transfer to other contexts without retraining.\n",
    "\n",
    "Language is flexible and idiosyncratic. The way that Wikipedia editors verbally aggress is probably different than the way that a random user on Twitter would. By different, I mean the words that they would use, the idioms, and the writing style. The reason is that the Wikipedia-editor demographic is probably quite different from the Twitter-user demographic. Also, the Talk page of a Wikipedia article provides different degrees of freedom when it comes to expression than a Tweet. For example, a Tweet is (by design) 280 characters, whereas on a Talk page an editor could really take as much space as they want. Including data from different platforms would increase the accuracy. \n"
   ]
  },
  {
   "cell_type": "code",
   "execution_count": null,
   "metadata": {},
   "outputs": [],
   "source": []
  }
 ],
 "metadata": {
  "kernelspec": {
   "display_name": "Python 3",
   "language": "python",
   "name": "python3"
  },
  "language_info": {
   "codemirror_mode": {
    "name": "ipython",
    "version": 3
   },
   "file_extension": ".py",
   "mimetype": "text/x-python",
   "name": "python",
   "nbconvert_exporter": "python",
   "pygments_lexer": "ipython3",
   "version": "3.7.6"
  }
 },
 "nbformat": 4,
 "nbformat_minor": 4
}
