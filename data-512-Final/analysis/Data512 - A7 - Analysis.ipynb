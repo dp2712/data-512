{
 "cells": [
  {
   "cell_type": "markdown",
   "metadata": {},
   "source": [
    "# DATA 512 : COVID-19 severity relation with patient's pre-existing condition\n",
    "Divya Pandey"
   ]
  },
  {
   "cell_type": "markdown",
   "metadata": {},
   "source": [
    "    \n",
    "<h2>Introduction and Motivation </h2>\n",
    "\n",
    "I explored how COVID-19 severity is related to patient's medical history / pre-existing conditions to understand if knowledge of patient's medical history can be helpful for hospitals to forecast number of patients who can witness severe outcomes if tested COVID-19 positive and plan for the resources and medical supplies better.\n",
    "\n",
    "\n",
    "As COVID-19 rapid growth thorughout the world has caused huge spike in demand of hospital supplies and care, hospitals across the world have been struggling greatly with the problem of allocating right resources to the right cases and also forecasting the resources required. It becomes crucial for hospitals to understand every factor that can potentially be utilized in demand forecasting of the resources for COVID patients and be helpful in saving lives. In these circumstances, this information can be proved really useful for hospitals and medical practicioners across teh world and benefit them in planning resources better.\n",
    "\n",
    "<h2>Background and Related Work</h2>\n",
    "This article summarizes the condition Mexico government is facing very well - https://www.aa.com.tr/en/latest-on-coronavirus-outbreak/pandemic-reveals-mexicos-social-economic-disparities/2002155 and though there are multiple prediction models which have been made on the dataset to predict if patients with certain pre-conditions are more susceptible to death due to covid, I wish to use this datset for more detailed level study exploring specifically age and pre-existing conditions variables.\n",
    "\n",
    "<h2>Dataset information</h2>\n",
    "This dataset is published by Mexican governement and updated on the daily basis. The data includes details about COVID-19 patients in Mexico and contains information such as Age, Gender, data of first covid symptom, date of entry to the hospital, patient's medical history, and whether patient died or recovered. This dataset is published in Spanish language and due to time constraints and lack of Spanish language knowledge, I will be utilizing the dataset that was translated, cleand and published as a Kaggle dataset under the name <i>'COVID-19 patient pre-condition dataset'</i>. The links to Raw Datasource, Cleaned Dataset and Dataset License are below - <br />\n",
    "<b>Dataset Source :</b> https://www.gob.mx/salud/documentos/datos-abiertos-152127 <br />\n",
    "<b>Cleaned Dataset Link :</b> https://www.kaggle.com/tanmoyx/covid19-patient-precondition-dataset?select=covid.csv <br />\n",
    "<b>Dataset License :</b> https://creativecommons.org/publicdomain/zero/1.0/ <br />\n",
    "\n",
    "\n",
    "<h2>Research Questions and Hypothesis</h2>\n",
    "Some of the questions I want to answer from this datset are - \n",
    "<ul>\n",
    "<li> <i><b>Question 1 - </i></b> Does severity of COVID-19 depends upon the age?</li>\n",
    "  <ul> <i>Hypothesis - </i> Older people are more prone to death by Covid than people with younger age and severe disease conditions </ul>\n",
    "<li><i><b>Question 2 - </i></b> Does medical history of COVID-19 patient plays a part in severity of symptoms witnessed?</li>\n",
    "  <ul> <i>Hypothesis -</i> People with diseases such as diabetes and high blood pressure show symptoms earlier and have higher chances of death  </ul> \n",
    "<li><i><b>Question 3 - </i></b> Can patient’s pre-existing conditions data be proven helpful in predicting the severity of cases and hence help hospitals better allocate the resources?</li>\n",
    "   <ul> <i>Hypothesis - </i> Age, gender , type of medical history can be strong predictors of propensity of death from COVID-19 or requirement of Intubation </ul> \n",
    "</ul> \n",
    "\n",
    "<h2> Methodology</h2> \n",
    "<b>Step 1 - </b> Performing the exploratory data analysis to understand the trends and distribution of rate of death for Age groups and pre-existing conditions in patients. I will then try to investigate how these different age groups were intubated to assess the assignments of medical resources for the pateints. \n",
    "\n",
    "<b>Step 2 - </b> Building a logistic regression model to understand the role of age, gender and pre-existing conditions in death due to COVID-19. This will highlight if certain medical history has higher chances of causing a death in patient if infected with COVID-19.\n",
    "\n",
    "<h2> Analysis</h2>"
   ]
  },
  {
   "cell_type": "markdown",
   "metadata": {},
   "source": [
    "<h2> Step 1 : Exploratory data analysis to understand the trends and distribution of rate of death for Age groups and pre-existing conditions in patients </h2>"
   ]
  },
  {
   "cell_type": "code",
   "execution_count": 2,
   "metadata": {},
   "outputs": [],
   "source": [
    "\n",
    "from IPython.core.interactiveshell import InteractiveShell\n",
    "InteractiveShell.ast_node_interactivity = \"all\"\n"
   ]
  },
  {
   "cell_type": "code",
   "execution_count": 3,
   "metadata": {},
   "outputs": [],
   "source": [
    "#importing libraries\n",
    "import numpy as np\n",
    "import pandas as pd\n",
    "import matplotlib.pyplot as plt\n",
    "pd.plotting.register_matplotlib_converters()\n",
    "import seaborn as sns\n"
   ]
  },
  {
   "cell_type": "markdown",
   "metadata": {},
   "source": [
    "<h4> Reading the dataset and performing data cleaning</h4>"
   ]
  },
  {
   "cell_type": "code",
   "execution_count": 107,
   "metadata": {
    "scrolled": true
   },
   "outputs": [
    {
     "data": {
      "text/html": [
       "<div>\n",
       "<style scoped>\n",
       "    .dataframe tbody tr th:only-of-type {\n",
       "        vertical-align: middle;\n",
       "    }\n",
       "\n",
       "    .dataframe tbody tr th {\n",
       "        vertical-align: top;\n",
       "    }\n",
       "\n",
       "    .dataframe thead th {\n",
       "        text-align: right;\n",
       "    }\n",
       "</style>\n",
       "<table border=\"1\" class=\"dataframe\">\n",
       "  <thead>\n",
       "    <tr style=\"text-align: right;\">\n",
       "      <th></th>\n",
       "      <th>id</th>\n",
       "      <th>sex</th>\n",
       "      <th>patient_type</th>\n",
       "      <th>entry_date</th>\n",
       "      <th>date_symptoms</th>\n",
       "      <th>date_died</th>\n",
       "      <th>intubed</th>\n",
       "      <th>pneumonia</th>\n",
       "      <th>age</th>\n",
       "      <th>pregnancy</th>\n",
       "      <th>...</th>\n",
       "      <th>inmsupr</th>\n",
       "      <th>hypertension</th>\n",
       "      <th>other_disease</th>\n",
       "      <th>cardiovascular</th>\n",
       "      <th>obesity</th>\n",
       "      <th>renal_chronic</th>\n",
       "      <th>tobacco</th>\n",
       "      <th>contact_other_covid</th>\n",
       "      <th>covid_res</th>\n",
       "      <th>icu</th>\n",
       "    </tr>\n",
       "  </thead>\n",
       "  <tbody>\n",
       "    <tr>\n",
       "      <th>0</th>\n",
       "      <td>16169f</td>\n",
       "      <td>2</td>\n",
       "      <td>1</td>\n",
       "      <td>04-05-2020</td>\n",
       "      <td>02-05-2020</td>\n",
       "      <td>9999-99-99</td>\n",
       "      <td>97</td>\n",
       "      <td>2</td>\n",
       "      <td>27</td>\n",
       "      <td>97</td>\n",
       "      <td>...</td>\n",
       "      <td>2</td>\n",
       "      <td>2</td>\n",
       "      <td>2</td>\n",
       "      <td>2</td>\n",
       "      <td>2</td>\n",
       "      <td>2</td>\n",
       "      <td>2</td>\n",
       "      <td>2</td>\n",
       "      <td>1</td>\n",
       "      <td>97</td>\n",
       "    </tr>\n",
       "    <tr>\n",
       "      <th>1</th>\n",
       "      <td>1009bf</td>\n",
       "      <td>2</td>\n",
       "      <td>1</td>\n",
       "      <td>19-03-2020</td>\n",
       "      <td>17-03-2020</td>\n",
       "      <td>9999-99-99</td>\n",
       "      <td>97</td>\n",
       "      <td>2</td>\n",
       "      <td>24</td>\n",
       "      <td>97</td>\n",
       "      <td>...</td>\n",
       "      <td>2</td>\n",
       "      <td>2</td>\n",
       "      <td>2</td>\n",
       "      <td>2</td>\n",
       "      <td>2</td>\n",
       "      <td>2</td>\n",
       "      <td>2</td>\n",
       "      <td>99</td>\n",
       "      <td>1</td>\n",
       "      <td>97</td>\n",
       "    </tr>\n",
       "  </tbody>\n",
       "</table>\n",
       "<p>2 rows × 23 columns</p>\n",
       "</div>"
      ],
      "text/plain": [
       "       id  sex  patient_type  entry_date date_symptoms   date_died  intubed  \\\n",
       "0  16169f    2             1  04-05-2020    02-05-2020  9999-99-99       97   \n",
       "1  1009bf    2             1  19-03-2020    17-03-2020  9999-99-99       97   \n",
       "\n",
       "   pneumonia  age  pregnancy  ...  inmsupr  hypertension  other_disease  \\\n",
       "0          2   27         97  ...        2             2              2   \n",
       "1          2   24         97  ...        2             2              2   \n",
       "\n",
       "   cardiovascular  obesity  renal_chronic  tobacco  contact_other_covid  \\\n",
       "0               2        2              2        2                    2   \n",
       "1               2        2              2        2                   99   \n",
       "\n",
       "   covid_res  icu  \n",
       "0          1   97  \n",
       "1          1   97  \n",
       "\n",
       "[2 rows x 23 columns]"
      ]
     },
     "execution_count": 107,
     "metadata": {},
     "output_type": "execute_result"
    }
   ],
   "source": [
    "# Reading the data\n",
    "covid_df=pd.read_csv(\"C:/Users/dpandey/Desktop/Stats/Data 512/Final project/covid.csv\")\n",
    "covid_df.head(2)"
   ]
  },
  {
   "cell_type": "code",
   "execution_count": 108,
   "metadata": {},
   "outputs": [
    {
     "data": {
      "text/html": [
       "<div>\n",
       "<style scoped>\n",
       "    .dataframe tbody tr th:only-of-type {\n",
       "        vertical-align: middle;\n",
       "    }\n",
       "\n",
       "    .dataframe tbody tr th {\n",
       "        vertical-align: top;\n",
       "    }\n",
       "\n",
       "    .dataframe thead th {\n",
       "        text-align: right;\n",
       "    }\n",
       "</style>\n",
       "<table border=\"1\" class=\"dataframe\">\n",
       "  <thead>\n",
       "    <tr style=\"text-align: right;\">\n",
       "      <th></th>\n",
       "      <th>id</th>\n",
       "      <th>sex</th>\n",
       "      <th>patient_type</th>\n",
       "      <th>entry_date</th>\n",
       "      <th>date_symptoms</th>\n",
       "      <th>date_died</th>\n",
       "      <th>intubed</th>\n",
       "      <th>pneumonia</th>\n",
       "      <th>age</th>\n",
       "      <th>pregnancy</th>\n",
       "      <th>...</th>\n",
       "      <th>other_disease</th>\n",
       "      <th>cardiovascular</th>\n",
       "      <th>obesity</th>\n",
       "      <th>renal_chronic</th>\n",
       "      <th>tobacco</th>\n",
       "      <th>contact_other_covid</th>\n",
       "      <th>covid_res</th>\n",
       "      <th>icu</th>\n",
       "      <th>died</th>\n",
       "      <th>died_bool</th>\n",
       "    </tr>\n",
       "  </thead>\n",
       "  <tbody>\n",
       "    <tr>\n",
       "      <th>0</th>\n",
       "      <td>16169f</td>\n",
       "      <td>Male</td>\n",
       "      <td>Outpatient</td>\n",
       "      <td>04-05-2020</td>\n",
       "      <td>02-05-2020</td>\n",
       "      <td>0</td>\n",
       "      <td>Not Specified</td>\n",
       "      <td>2</td>\n",
       "      <td>27</td>\n",
       "      <td>Not Specified</td>\n",
       "      <td>...</td>\n",
       "      <td>2</td>\n",
       "      <td>2</td>\n",
       "      <td>2</td>\n",
       "      <td>2</td>\n",
       "      <td>2</td>\n",
       "      <td>No</td>\n",
       "      <td>Positive</td>\n",
       "      <td>Not Specified</td>\n",
       "      <td>Non-died</td>\n",
       "      <td>0</td>\n",
       "    </tr>\n",
       "    <tr>\n",
       "      <th>1</th>\n",
       "      <td>1009bf</td>\n",
       "      <td>Male</td>\n",
       "      <td>Outpatient</td>\n",
       "      <td>19-03-2020</td>\n",
       "      <td>17-03-2020</td>\n",
       "      <td>0</td>\n",
       "      <td>Not Specified</td>\n",
       "      <td>2</td>\n",
       "      <td>24</td>\n",
       "      <td>Not Specified</td>\n",
       "      <td>...</td>\n",
       "      <td>2</td>\n",
       "      <td>2</td>\n",
       "      <td>2</td>\n",
       "      <td>2</td>\n",
       "      <td>2</td>\n",
       "      <td>Not Specified</td>\n",
       "      <td>Positive</td>\n",
       "      <td>Not Specified</td>\n",
       "      <td>Non-died</td>\n",
       "      <td>0</td>\n",
       "    </tr>\n",
       "    <tr>\n",
       "      <th>2</th>\n",
       "      <td>167386</td>\n",
       "      <td>Female</td>\n",
       "      <td>Inpatient</td>\n",
       "      <td>06-04-2020</td>\n",
       "      <td>01-04-2020</td>\n",
       "      <td>0</td>\n",
       "      <td>No</td>\n",
       "      <td>2</td>\n",
       "      <td>54</td>\n",
       "      <td>No</td>\n",
       "      <td>...</td>\n",
       "      <td>2</td>\n",
       "      <td>2</td>\n",
       "      <td>1</td>\n",
       "      <td>2</td>\n",
       "      <td>2</td>\n",
       "      <td>Not Specified</td>\n",
       "      <td>Positive</td>\n",
       "      <td>No</td>\n",
       "      <td>Non-died</td>\n",
       "      <td>0</td>\n",
       "    </tr>\n",
       "  </tbody>\n",
       "</table>\n",
       "<p>3 rows × 25 columns</p>\n",
       "</div>"
      ],
      "text/plain": [
       "       id     sex patient_type  entry_date date_symptoms date_died  \\\n",
       "0  16169f    Male   Outpatient  04-05-2020    02-05-2020         0   \n",
       "1  1009bf    Male   Outpatient  19-03-2020    17-03-2020         0   \n",
       "2  167386  Female    Inpatient  06-04-2020    01-04-2020         0   \n",
       "\n",
       "         intubed  pneumonia  age      pregnancy  ...  other_disease  \\\n",
       "0  Not Specified          2   27  Not Specified  ...              2   \n",
       "1  Not Specified          2   24  Not Specified  ...              2   \n",
       "2             No          2   54             No  ...              2   \n",
       "\n",
       "   cardiovascular  obesity  renal_chronic  tobacco  contact_other_covid  \\\n",
       "0               2        2              2        2                   No   \n",
       "1               2        2              2        2        Not Specified   \n",
       "2               2        1              2        2        Not Specified   \n",
       "\n",
       "   covid_res            icu      died  died_bool  \n",
       "0   Positive  Not Specified  Non-died          0  \n",
       "1   Positive  Not Specified  Non-died          0  \n",
       "2   Positive             No  Non-died          0  \n",
       "\n",
       "[3 rows x 25 columns]"
      ]
     },
     "execution_count": 108,
     "metadata": {},
     "output_type": "execute_result"
    }
   ],
   "source": [
    "# cleaning the date fields \n",
    "covid_df['date_died'] = covid_df['date_died'].replace('9999-99-99', 0)\n",
    "covid_df['entry_date'] = covid_df['entry_date'].replace('9999-99-99', 0)\n",
    "covid_df['date_symptoms'] = covid_df['date_symptoms'].replace('9999-99-99', 0)\n",
    "covid_df['died'] = covid_df['date_died'].apply(lambda x: 'Non-died' if x == 0 else 'Died')\n",
    "covid_df['died_bool'] = covid_df['date_died'].apply(lambda x: 0 if x == 0 else 1)\n",
    "\n",
    "# Replacing all binary feilds with intuitive flags \n",
    "\n",
    "covid_df.sex.replace({1: 'Female', 2: 'Male'}, inplace=True)\n",
    "covid_df.patient_type.replace({1: 'Outpatient', 2: 'Inpatient'}, inplace=True)\n",
    "covid_df.intubed.replace({1: 'Yes', 2: 'No',97:'Not Specified', 98:'Not Specified',99:'Not Specified'}, inplace=True)\n",
    "covid_df.pregnancy.replace({1: 'Yes', 2: 'No', 99:'Not Specified',98:'Not Specified', 97:'Not Specified'}, inplace=True)\n",
    "covid_df.contact_other_covid.replace({1: 'Yes', 2: 'No', 97:'Not Specified',99:'Not Specified',98:'Not Specified'}, inplace=True)\n",
    "covid_df.covid_res.replace({1: 'Positive', 2: 'Negative', 3:'Awaiting Results'}, inplace=True)\n",
    "covid_df.icu.replace({1: 'Yes', 2: 'No', 97:'Not Specified',98:'Not Specified', 99:'Not Specified'}, inplace=True)\n",
    "\n",
    "covid_df.head(3)"
   ]
  },
  {
   "cell_type": "markdown",
   "metadata": {},
   "source": [
    "\n",
    "<h4> 1.) Getting summary statistics to get the count of cases and percentage of cases out of entire population.</h4>\n",
    "<h4> Findings :</h4>  Out of the 566K patients, almost 40% of the patients tested postive for COVID-19 and Nearly 27k (4.7%) patients died in Mexico City between Apr-Jun 2020"
   ]
  },
  {
   "cell_type": "code",
   "execution_count": 201,
   "metadata": {
    "scrolled": false
   },
   "outputs": [
    {
     "data": {
      "text/plain": [
       "<Figure size 432x432 with 0 Axes>"
      ]
     },
     "execution_count": 201,
     "metadata": {},
     "output_type": "execute_result"
    },
    {
     "data": {
      "text/plain": [
       "covid_res         died    \n",
       "Awaiting Results  Died          2055\n",
       "                  Non-died     64855\n",
       "Negative          Died          7000\n",
       "                  Non-died    272035\n",
       "Positive          Died         27121\n",
       "                  Non-died    193536\n",
       "Name: id, dtype: int64"
      ]
     },
     "execution_count": 201,
     "metadata": {},
     "output_type": "execute_result"
    },
    {
     "data": {
      "text/plain": [
       "Negative            0.492471\n",
       "Positive            0.389439\n",
       "Awaiting Results    0.118090\n",
       "Name: covid_res, dtype: float64"
      ]
     },
     "execution_count": 201,
     "metadata": {},
     "output_type": "execute_result"
    },
    {
     "data": {
      "text/plain": [
       "<Figure size 432x432 with 0 Axes>"
      ]
     },
     "execution_count": 201,
     "metadata": {},
     "output_type": "execute_result"
    },
    {
     "data": {
      "text/plain": [
       "<matplotlib.axes._subplots.AxesSubplot at 0x14a1fc2b688>"
      ]
     },
     "execution_count": 201,
     "metadata": {},
     "output_type": "execute_result"
    },
    {
     "data": {
      "image/png": "[encoded data removed]",
      "text/plain": [
       "<Figure size 432x432 with 1 Axes>"
      ]
     },
     "metadata": {
      "needs_background": "light"
     },
     "output_type": "display_data"
    },
    {
     "data": {
      "image/png": "[encoded data removed]",
      "text/plain": [
       "<Figure size 432x432 with 1 Axes>"
      ]
     },
     "metadata": {
      "needs_background": "light"
     },
     "output_type": "display_data"
    }
   ],
   "source": [
    "sns.set_palette(\"Set2\")\n",
    "\n",
    "# Count of patients died/not died per COVID-19 test results\n",
    "\n",
    "plt.figure(figsize=(6,6))\n",
    "g=sns.countplot(covid_df['covid_res'],hue=covid_df['died'],palette=\"Set2\")\n",
    "covid_df.groupby([\"covid_res\", \"died\"])[\"id\"].count()\n",
    "plt.savefig('Count of patients by COVID-19 test results.png')\n",
    "\n",
    "# Percentage of patients per COVID-19 test results\n",
    "\n",
    "res=covid_df['covid_res'].value_counts()/sum(covid_df['covid_res'].value_counts())\n",
    "res\n",
    "plt.figure(figsize=(6,6))\n",
    "res.plot(kind='barh',rot=0)\n",
    "plt.savefig('Percentage of patients by COVID-19 test results.png')"
   ]
  },
  {
   "cell_type": "markdown",
   "metadata": {},
   "source": [
    "\n",
    "<h4>Plotting the distribution of age for all patients and then for patients who died vs did not die. \n",
    "The distribution clearly highilghts the relationship between age and death rate as for population of people who died,\n",
    "median age is 65 years and is skewed towards older age buckets</h4>"
   ]
  },
  {
   "cell_type": "code",
   "execution_count": 199,
   "metadata": {
    "scrolled": false
   },
   "outputs": [
    {
     "data": {
      "text/plain": [
       "Text(0.5, 1.0, 'Age distribution')"
      ]
     },
     "execution_count": 199,
     "metadata": {},
     "output_type": "execute_result"
    },
    {
     "data": {
      "text/plain": [
       "Text(0.5, 1.0, 'Age distribution for the two subpopulations')"
      ]
     },
     "execution_count": 199,
     "metadata": {},
     "output_type": "execute_result"
    },
    {
     "data": {
      "text/plain": [
       "Text(0.5, 0.98, 'Covid - 19 test result distribution by age')"
      ]
     },
     "execution_count": 199,
     "metadata": {},
     "output_type": "execute_result"
    },
    {
     "data": {
      "image/png": "[encoded data removed]",
      "text/plain": [
       "<Figure size 864x432 with 2 Axes>"
      ]
     },
     "metadata": {
      "needs_background": "light"
     },
     "output_type": "display_data"
    },
    {
     "data": {
      "image/png": "[encoded data removed]",
      "text/plain": [
       "<Figure size 730.423x432 with 1 Axes>"
      ]
     },
     "metadata": {
      "needs_background": "light"
     },
     "output_type": "display_data"
    }
   ],
   "source": [
    "sns.set_palette(\"Set2\")\n",
    "\n",
    "########################## Histograms of age ###########################\n",
    "df = covid_df\n",
    "fig, axarr = plt.subplots(1, 2, figsize=(12,6))\n",
    "axarr[0].set_title('Age distribution')\n",
    "f = sns.distplot(df['age'], color='g', bins=60, ax=axarr[0])\n",
    "axarr[1].set_title('Age distribution for the two subpopulations')\n",
    "\n",
    "g = sns.kdeplot(df['age'].loc[df['died'] == 'Died'], \n",
    "                shade= True, ax=axarr[1], label='Died').set_xlabel('Age')\n",
    "g = sns.kdeplot(df['age'].loc[df['died'] == 'Non-died'], \n",
    "                shade=True, ax=axarr[1], label='Not died')\n",
    "\n",
    "fig.savefig('Age_Distribution.png')\n",
    "########################## Bar plot of cases as per age bucket ###########################\n",
    "# create a list of our conditions for age bucket\n",
    "conditions = [\n",
    "    (covid_df['age'] <= 18),\n",
    "    (covid_df['age'] > 18) & (covid_df['age'] <= 30),\n",
    "    (covid_df['age'] > 30) & (covid_df['age'] <= 60),\n",
    "    (covid_df['age'] > 60)\n",
    "    ]\n",
    "\n",
    "# create a list of the values we want to assign for each condition\n",
    "values = ['less than 18', 'between 18 and 30', 'between 30 and 60', '60 above']\n",
    "\n",
    "# create a new column and use np.select to assign values to it using our lists as arguments\n",
    "covid_df['age_bucket'] = np.select(conditions, values)\n",
    "\n",
    "# Plotting age buckets\n",
    "sns.set_palette(\"Paired\")\n",
    "\n",
    "age = covid_df.groupby([\"age_bucket\", \"covid_res\"])[\"id\"].count()\n",
    "res2 = covid_df['age_bucket'].value_counts()\n",
    "results = age.div(res2, level='age_bucket') * 100\n",
    "flat_df = results.reset_index(inplace=False)\n",
    "flat_df.columns=[\"age_bucket\", \"Covid-19 result\",\"percentage\"]\n",
    "\n",
    "#sns.set(rc={'figure.figsize':(11.7,8.27)})\n",
    "g = sns.catplot(x=\"age_bucket\", y=\"percentage\", hue=\"Covid-19 result\",\n",
    "                data=flat_df, kind=\"bar\", height=6, aspect=11.7/8.27\n",
    "               ,order=[\"less than 18\", \"between 18 and 30\", \"between 30 and 60\", \"60 above\"])\n",
    "\n",
    "plt.subplots_adjust(top=0.9)\n",
    "g.fig.suptitle(\"Covid - 19 test result distribution by age\", size=18)\n",
    "\n",
    "fig.savefig('Age_Bucket_Distribution.png')"
   ]
  },
  {
   "cell_type": "markdown",
   "metadata": {},
   "source": [
    "<h4>Now subsetting data for only COVID-19 positive patients and analyzing if patient's who died from COVID were skewed towards higher age group buckets. <br/>\n",
    "   I observed that death rate of COVID-19 positive patients was 39% for age group of 60 above which was highest among all age groups. Also, when looking at the distribution of intubation among people of above 60 age group, I observe that out of all people who died above age 60, 75% were not intubated and 80% were not admitted to ICU. This finding suggests that either hospitals did not have suffiecient resources to support the pateints or they sub-optimally assigned the resources</h4>"
   ]
  },
  {
   "cell_type": "code",
   "execution_count": 202,
   "metadata": {
    "scrolled": false
   },
   "outputs": [
    {
     "data": {
      "text/plain": [
       "Text(0.5, 0.98, 'Distribution of Covid 19 positive patients deaths by age')"
      ]
     },
     "execution_count": 202,
     "metadata": {},
     "output_type": "execute_result"
    },
    {
     "data": {
      "image/png": "[encoded data removed]",
      "text/plain": [
       "<Figure size 692.423x432 with 1 Axes>"
      ]
     },
     "metadata": {
      "needs_background": "light"
     },
     "output_type": "display_data"
    }
   ],
   "source": [
    "covid_positive = covid_df[covid_df.covid_res == 'Positive']\n",
    "\n",
    "sns.set_palette(\"Set2\")\n",
    "\n",
    "# deaths by age group\n",
    "age2 = covid_positive.groupby([\"age_bucket\", \"died\"])[\"id\"].count()\n",
    "died2 = covid_positive['age_bucket'].value_counts()\n",
    "results2 = age2.div(died2, level='age_bucket') * 100\n",
    "flat_df2 = results2.reset_index(inplace=False)\n",
    "flat_df2.columns=[\"age_bucket\", \"dead\",\"percentage\"]\n",
    "\n",
    "#sns.set(rc={'figure.figsize':(11.7,8.27)})\n",
    "g = sns.catplot(x=\"age_bucket\", y=\"percentage\", hue=\"dead\", \n",
    "                data=flat_df2, kind=\"bar\",height=6, aspect=11.7/8.27\n",
    "               ,order=[\"less than 18\", \"between 18 and 30\", \"between 30 and 60\", \"60 above\"])\n",
    "plt.subplots_adjust(top=0.9)\n",
    "g.fig.suptitle(\"Distribution of Covid 19 positive patients deaths by age\", size=18)\n",
    "plt.savefig('Distribution of Covid 19 positive patients deaths by age.png')"
   ]
  },
  {
   "cell_type": "code",
   "execution_count": 203,
   "metadata": {},
   "outputs": [
    {
     "data": {
      "text/plain": [
       "Text(0.5, 0.98, 'Distribution of intubation for above 60 years')"
      ]
     },
     "execution_count": 203,
     "metadata": {},
     "output_type": "execute_result"
    },
    {
     "data": {
      "text/plain": [
       "Text(0.5, 0.98, 'Distribution of ICU for above 60 years')"
      ]
     },
     "execution_count": 203,
     "metadata": {},
     "output_type": "execute_result"
    },
    {
     "data": {
      "image/png": "[encoded data removed]",
      "text/plain": [
       "<Figure size 713.673x432 with 1 Axes>"
      ]
     },
     "metadata": {
      "needs_background": "light"
     },
     "output_type": "display_data"
    },
    {
     "data": {
      "image/png": "[encoded data removed]",
      "text/plain": [
       "<Figure size 713.673x432 with 1 Axes>"
      ]
     },
     "metadata": {
      "needs_background": "light"
     },
     "output_type": "display_data"
    }
   ],
   "source": [
    "sns.set_palette(\"Paired\")\n",
    "\n",
    "age_above_sixty = covid_positive[covid_positive.age_bucket == '60 above']\n",
    "\n",
    "#intubation for abve 60 years\n",
    "died1 = age_above_sixty.groupby([\"died\", \"intubed\"])[\"id\"].count()\n",
    "intubed = age_above_sixty['died'].value_counts()\n",
    "results3 = died1.div(intubed, level='died') * 100\n",
    "flat_df3 = results3.reset_index(inplace=False)\n",
    "flat_df3.columns=[\"died\", \"intubed\",\"percentage\"]\n",
    "\n",
    "#sns.set(rc={'figure.figsize':(11.7,8.27)})\n",
    "g = sns.catplot(x=\"died\", y=\"percentage\", hue=\"intubed\", \n",
    "                data=flat_df3, kind=\"bar\", height=6, aspect=11.7/8.27)\n",
    "\n",
    "plt.subplots_adjust(top=0.9)\n",
    "g.fig.suptitle(\"Distribution of intubation for above 60 years\", size=18)\n",
    "plt.savefig('Distribution of intubation for above 60 years.png')\n",
    "\n",
    "\n",
    "#ICU for abve 60 years\n",
    "died2 = age_above_sixty.groupby([\"died\", \"icu\"])[\"id\"].count()\n",
    "ICU = age_above_sixty['died'].value_counts()\n",
    "results4 = died2.div(ICU, level='died') * 100\n",
    "flat_df4 = results4.reset_index(inplace=False)\n",
    "flat_df4.columns=[\"died\", \"ICU\",\"percentage\"]\n",
    "\n",
    "#sns.set(rc={'figure.figsize':(11.7,8.27)})\n",
    "g = sns.catplot(x=\"died\", y=\"percentage\", hue=\"ICU\", \n",
    "                data=flat_df4, kind=\"bar\",height=6, aspect=11.7/8.27)\n",
    "\n",
    "plt.subplots_adjust(top=0.9)\n",
    "g.fig.suptitle(\"Distribution of ICU for above 60 years\", size=18)\n",
    "plt.savefig('Distribution of ICU for above 60 years.png')\n"
   ]
  },
  {
   "cell_type": "markdown",
   "metadata": {},
   "source": [
    "<h4> Analyzing the pre-existing condition death rate to find if certain conditions are higher risk prone than others and then seeing the distribution of intubation rate for those.<br/>\n",
    "I observed that Pneumonia has 55% Death rate, Renal Chronic has 50% Death rate and COPD has 43% Death rate; highest among all COVID-19 patients above 60 years age. <br/>\n",
    "Also, Pneumonia patients had highest intubation rate, but low intubation rate in Renal Chronic and COPD patients signals opportunity areas in resource planning for specially patients with history of these diseases </h4>\n"
   ]
  },
  {
   "cell_type": "code",
   "execution_count": 204,
   "metadata": {},
   "outputs": [],
   "source": [
    "\n",
    "# Creating a function to clean the data for each pre-existing medical condition and calculate the death rate\n",
    "def med_hist(data,col):\n",
    "    disease2 = pd.DataFrame()\n",
    "    \n",
    "    for i in col:\n",
    "        df=(data[data[i] == 1].groupby([i,'died'])[\"id\"].count()).reset_index(inplace=False)\n",
    "        df.columns=[\"disease\",\"died\",\"count\"]\n",
    "        df.disease = i\n",
    "        disease2= disease2.append(df)\n",
    "    \n",
    "    return disease2\n",
    "    "
   ]
  },
  {
   "cell_type": "code",
   "execution_count": 206,
   "metadata": {},
   "outputs": [
    {
     "data": {
      "text/plain": [
       "<Figure size 720x360 with 0 Axes>"
      ]
     },
     "execution_count": 206,
     "metadata": {},
     "output_type": "execute_result"
    },
    {
     "data": {
      "text/plain": [
       "<matplotlib.axes._subplots.AxesSubplot at 0x14a2f136508>"
      ]
     },
     "execution_count": 206,
     "metadata": {},
     "output_type": "execute_result"
    },
    {
     "data": {
      "text/plain": [
       "Text(0.5, 0, 'Disease history')"
      ]
     },
     "execution_count": 206,
     "metadata": {},
     "output_type": "execute_result"
    },
    {
     "data": {
      "text/plain": [
       "Text(0, 0.5, '%Died')"
      ]
     },
     "execution_count": 206,
     "metadata": {},
     "output_type": "execute_result"
    },
    {
     "data": {
      "text/plain": [
       "Text(0.5, 0.98, '%Covid Patient died - Split by disease history')"
      ]
     },
     "execution_count": 206,
     "metadata": {},
     "output_type": "execute_result"
    },
    {
     "data": {
      "text/plain": [
       "<Figure size 720x360 with 0 Axes>"
      ]
     },
     "execution_count": 206,
     "metadata": {},
     "output_type": "execute_result"
    },
    {
     "data": {
      "text/plain": [
       "<matplotlib.axes._subplots.AxesSubplot at 0x14a20484b08>"
      ]
     },
     "execution_count": 206,
     "metadata": {},
     "output_type": "execute_result"
    },
    {
     "data": {
      "text/plain": [
       "Text(0.5, 0, 'Disease history')"
      ]
     },
     "execution_count": 206,
     "metadata": {},
     "output_type": "execute_result"
    },
    {
     "data": {
      "text/plain": [
       "Text(0, 0.5, '%Died')"
      ]
     },
     "execution_count": 206,
     "metadata": {},
     "output_type": "execute_result"
    },
    {
     "data": {
      "text/plain": [
       "Text(0.5, 0.98, '%Covid Patient died with age above 60 - Split by disease history')"
      ]
     },
     "execution_count": 206,
     "metadata": {},
     "output_type": "execute_result"
    },
    {
     "data": {
      "text/plain": [
       "<Figure size 432x288 with 0 Axes>"
      ]
     },
     "metadata": {},
     "output_type": "display_data"
    },
    {
     "data": {
      "image/png": "[encoded data removed]",
      "text/plain": [
       "<Figure size 720x360 with 1 Axes>"
      ]
     },
     "metadata": {
      "needs_background": "light"
     },
     "output_type": "display_data"
    },
    {
     "data": {
      "image/png": "[encoded data removed]",
      "text/plain": [
       "<Figure size 720x360 with 1 Axes>"
      ]
     },
     "metadata": {
      "needs_background": "light"
     },
     "output_type": "display_data"
    }
   ],
   "source": [
    "# plotting the death rate by diseases, first for the entire COVID-19 positive population and then for only above age 60.\n",
    "\n",
    "col = [\"asthma\",\"pneumonia\",\"diabetes\",\"copd\",\"inmsupr\",\"hypertension\",\"other_disease\"\n",
    "       ,\"cardiovascular\",\"obesity\",\"renal_chronic\",\"tobacco\"]\n",
    "\n",
    "# Calculating the death rate\n",
    "disease_allage= med_hist(data = covid_positive,col=col)\n",
    "\n",
    "died = disease_allage[disease_allage.died == \"Died\"].groupby(['disease'])[\"count\"].sum()\n",
    "dis = disease_allage.groupby(['disease'])[\"count\"].sum()\n",
    "\n",
    "disease_60= med_hist(data = age_above_sixty,col=col)\n",
    "\n",
    "    \n",
    "died1 = disease_60[disease_60.died == \"Died\"].groupby(['disease'])[\"count\"].sum()\n",
    "dis1 = disease_60.groupby(['disease'])[\"count\"].sum()\n",
    "\n",
    "# Plotting the graphs\n",
    "\n",
    "sns.set_palette(\"Set2\")\n",
    "\n",
    "plot1 = plt.figure(1)\n",
    "plt.figure(figsize=(10,5))\n",
    "(died.div(dis, level='disease') * 100).plot(x=\"%Died\",y=\"Historical disease\",kind='bar')\n",
    "plt.xlabel('Disease history')\n",
    "plt.ylabel('%Died')\n",
    "plt.suptitle('%Covid Patient died - Split by disease history')\n",
    "plt.savefig('%Covid Patient died - Split by disease history.png')\n",
    "\n",
    "plot2 = plt.figure(2)\n",
    "plt.figure(figsize=(10,5))\n",
    "(died1.div(dis1, level='disease') * 100).plot(x=\"%Died\",y=\"Historical disease\",kind='bar')\n",
    "plt.xlabel('Disease history')\n",
    "plt.ylabel('%Died')\n",
    "plt.suptitle('%Covid Patient died with age above 60 - Split by disease history')\n",
    "plt.savefig('%Covid Patient died with age above 60 - Split by disease history.png')\n"
   ]
  },
  {
   "cell_type": "code",
   "execution_count": 127,
   "metadata": {},
   "outputs": [
    {
     "data": {
      "text/plain": [
       "<Figure size 720x360 with 0 Axes>"
      ]
     },
     "execution_count": 127,
     "metadata": {},
     "output_type": "execute_result"
    },
    {
     "data": {
      "text/plain": [
       "<matplotlib.axes._subplots.AxesSubplot at 0x14a2f3d3088>"
      ]
     },
     "execution_count": 127,
     "metadata": {},
     "output_type": "execute_result"
    },
    {
     "data": {
      "text/plain": [
       "Text(0.5, 0, 'Disease history')"
      ]
     },
     "execution_count": 127,
     "metadata": {},
     "output_type": "execute_result"
    },
    {
     "data": {
      "text/plain": [
       "Text(0, 0.5, '%Intubed')"
      ]
     },
     "execution_count": 127,
     "metadata": {},
     "output_type": "execute_result"
    },
    {
     "data": {
      "text/plain": [
       "Text(0.5, 0.98, '%Covid Patient intubed - Split by disease history')"
      ]
     },
     "execution_count": 127,
     "metadata": {},
     "output_type": "execute_result"
    },
    {
     "data": {
      "text/plain": [
       "<Figure size 432x288 with 0 Axes>"
      ]
     },
     "metadata": {},
     "output_type": "display_data"
    },
    {
     "data": {
      "image/png": "[encoded data removed]",
      "text/plain": [
       "<Figure size 720x360 with 1 Axes>"
      ]
     },
     "metadata": {
      "needs_background": "light"
     },
     "output_type": "display_data"
    }
   ],
   "source": [
    "# Creating a function to clean the data for each pre-existing medical condition and calculate the intubation rate\n",
    "\n",
    "def med_hist1(data,col):\n",
    "    disease2 = pd.DataFrame()\n",
    "    \n",
    "    for i in col:\n",
    "        df=(data[data[i] == 1].groupby([i,'intubed'])[\"id\"].count()).reset_index(inplace=False)\n",
    "        df.columns=[\"disease\",\"intubed\",\"count\"]\n",
    "        df.disease = i\n",
    "        disease2= disease2.append(df)\n",
    "    \n",
    "    return disease2\n",
    "\n",
    "# plotting the intubation rate by diseases, for only above age 60.\n",
    "\n",
    "disease_60_int= med_hist1(data = age_above_sixty,col=col)\n",
    "\n",
    "int1 = disease_60_int[disease_60_int.intubed == \"Yes\"].groupby(['disease'])[\"count\"].sum()\n",
    "dis5 = disease_60_int.groupby(['disease'])[\"count\"].sum()\n",
    "\n",
    "plot1 = plt.figure(1)\n",
    "plt.figure(figsize=(10,5))\n",
    "(int1.div(dis5, level='disease') * 100).plot(x=\"%intubed\",y=\"Historical disease\",kind='bar')\n",
    "plt.xlabel('Disease history')\n",
    "plt.ylabel('%Intubed')\n",
    "plt.suptitle('%Covid Patient intubed - Split by disease history')"
   ]
  },
  {
   "cell_type": "markdown",
   "metadata": {},
   "source": [
    "<h2>Step 2 - Building a logistic regression model to understand the role of age, gender and pre-existing conditions in death due to COVID-19. This will highlight if certain medical history has higher chances of causing a death in patient if infected with COVID-19.</h2>"
   ]
  },
  {
   "cell_type": "markdown",
   "metadata": {},
   "source": [
    "<h4> Data preparation </h4>"
   ]
  },
  {
   "cell_type": "code",
   "execution_count": 132,
   "metadata": {},
   "outputs": [
    {
     "data": {
      "text/plain": [
       "0    10493\n",
       "1     1566\n",
       "Name: intubed, dtype: int64"
      ]
     },
     "execution_count": 132,
     "metadata": {},
     "output_type": "execute_result"
    },
    {
     "data": {
      "text/html": [
       "<div>\n",
       "<style scoped>\n",
       "    .dataframe tbody tr th:only-of-type {\n",
       "        vertical-align: middle;\n",
       "    }\n",
       "\n",
       "    .dataframe tbody tr th {\n",
       "        vertical-align: top;\n",
       "    }\n",
       "\n",
       "    .dataframe thead th {\n",
       "        text-align: right;\n",
       "    }\n",
       "</style>\n",
       "<table border=\"1\" class=\"dataframe\">\n",
       "  <thead>\n",
       "    <tr style=\"text-align: right;\">\n",
       "      <th></th>\n",
       "      <th>sex</th>\n",
       "      <th>patient_type</th>\n",
       "      <th>intubed</th>\n",
       "      <th>pneumonia</th>\n",
       "      <th>age</th>\n",
       "      <th>pregnancy</th>\n",
       "      <th>diabetes</th>\n",
       "      <th>copd</th>\n",
       "      <th>asthma</th>\n",
       "      <th>inmsupr</th>\n",
       "      <th>hypertension</th>\n",
       "      <th>other_disease</th>\n",
       "      <th>cardiovascular</th>\n",
       "      <th>obesity</th>\n",
       "      <th>renal_chronic</th>\n",
       "      <th>tobacco</th>\n",
       "      <th>contact_other_covid</th>\n",
       "      <th>died_bool</th>\n",
       "    </tr>\n",
       "  </thead>\n",
       "  <tbody>\n",
       "    <tr>\n",
       "      <th>21</th>\n",
       "      <td>1</td>\n",
       "      <td>0</td>\n",
       "      <td>0</td>\n",
       "      <td>0</td>\n",
       "      <td>25</td>\n",
       "      <td>0</td>\n",
       "      <td>0</td>\n",
       "      <td>0</td>\n",
       "      <td>0</td>\n",
       "      <td>0</td>\n",
       "      <td>0</td>\n",
       "      <td>0</td>\n",
       "      <td>0</td>\n",
       "      <td>0</td>\n",
       "      <td>0</td>\n",
       "      <td>0</td>\n",
       "      <td>1</td>\n",
       "      <td>0</td>\n",
       "    </tr>\n",
       "    <tr>\n",
       "      <th>30</th>\n",
       "      <td>1</td>\n",
       "      <td>0</td>\n",
       "      <td>0</td>\n",
       "      <td>0</td>\n",
       "      <td>52</td>\n",
       "      <td>0</td>\n",
       "      <td>0</td>\n",
       "      <td>0</td>\n",
       "      <td>0</td>\n",
       "      <td>0</td>\n",
       "      <td>0</td>\n",
       "      <td>0</td>\n",
       "      <td>0</td>\n",
       "      <td>1</td>\n",
       "      <td>0</td>\n",
       "      <td>1</td>\n",
       "      <td>1</td>\n",
       "      <td>0</td>\n",
       "    </tr>\n",
       "    <tr>\n",
       "      <th>71</th>\n",
       "      <td>1</td>\n",
       "      <td>0</td>\n",
       "      <td>0</td>\n",
       "      <td>1</td>\n",
       "      <td>51</td>\n",
       "      <td>0</td>\n",
       "      <td>0</td>\n",
       "      <td>0</td>\n",
       "      <td>0</td>\n",
       "      <td>0</td>\n",
       "      <td>0</td>\n",
       "      <td>0</td>\n",
       "      <td>0</td>\n",
       "      <td>0</td>\n",
       "      <td>0</td>\n",
       "      <td>0</td>\n",
       "      <td>1</td>\n",
       "      <td>0</td>\n",
       "    </tr>\n",
       "    <tr>\n",
       "      <th>79</th>\n",
       "      <td>1</td>\n",
       "      <td>0</td>\n",
       "      <td>1</td>\n",
       "      <td>1</td>\n",
       "      <td>67</td>\n",
       "      <td>0</td>\n",
       "      <td>1</td>\n",
       "      <td>0</td>\n",
       "      <td>0</td>\n",
       "      <td>0</td>\n",
       "      <td>1</td>\n",
       "      <td>0</td>\n",
       "      <td>0</td>\n",
       "      <td>1</td>\n",
       "      <td>0</td>\n",
       "      <td>0</td>\n",
       "      <td>1</td>\n",
       "      <td>0</td>\n",
       "    </tr>\n",
       "    <tr>\n",
       "      <th>93</th>\n",
       "      <td>1</td>\n",
       "      <td>0</td>\n",
       "      <td>0</td>\n",
       "      <td>1</td>\n",
       "      <td>59</td>\n",
       "      <td>0</td>\n",
       "      <td>1</td>\n",
       "      <td>0</td>\n",
       "      <td>0</td>\n",
       "      <td>0</td>\n",
       "      <td>0</td>\n",
       "      <td>0</td>\n",
       "      <td>0</td>\n",
       "      <td>0</td>\n",
       "      <td>0</td>\n",
       "      <td>0</td>\n",
       "      <td>1</td>\n",
       "      <td>0</td>\n",
       "    </tr>\n",
       "  </tbody>\n",
       "</table>\n",
       "</div>"
      ],
      "text/plain": [
       "    sex  patient_type  intubed  pneumonia  age  pregnancy  diabetes  copd  \\\n",
       "21    1             0        0          0   25          0         0     0   \n",
       "30    1             0        0          0   52          0         0     0   \n",
       "71    1             0        0          1   51          0         0     0   \n",
       "79    1             0        1          1   67          0         1     0   \n",
       "93    1             0        0          1   59          0         1     0   \n",
       "\n",
       "    asthma  inmsupr  hypertension  other_disease  cardiovascular  obesity  \\\n",
       "21       0        0             0              0               0        0   \n",
       "30       0        0             0              0               0        1   \n",
       "71       0        0             0              0               0        0   \n",
       "79       0        0             1              0               0        1   \n",
       "93       0        0             0              0               0        0   \n",
       "\n",
       "    renal_chronic  tobacco  contact_other_covid  died_bool  \n",
       "21              0        0                    1          0  \n",
       "30              0        1                    1          0  \n",
       "71              0        0                    1          0  \n",
       "79              0        0                    1          0  \n",
       "93              0        0                    1          0  "
      ]
     },
     "execution_count": 132,
     "metadata": {},
     "output_type": "execute_result"
    }
   ],
   "source": [
    "# Prepare data for logistic regression , dependent as death flag\n",
    "\n",
    "log_df=covid_positive.drop(columns=['id','entry_date','date_symptoms','date_died','died','icu','age_bucket','covid_res'],axis=1)\n",
    "\n",
    "log_df=log_df.replace({\"Not Specified\":np.nan})\n",
    "log_df=log_df.replace({2:0})\n",
    "log_df=log_df.dropna()\n",
    "\n",
    "log_df.intubed.replace({'Yes':1,'No':0}, inplace=True)\n",
    "log_df.sex.replace({'Female':1,'Male':0}, inplace=True)\n",
    "log_df.patient_type.replace({ 'Outpatient':1, 'Inpatient':0}, inplace=True)\n",
    "log_df.pregnancy.replace({'Yes':1, 'No':0}, inplace=True)\n",
    "log_df.contact_other_covid.replace({'Yes':1, 'No':0}, inplace=True)\n",
    "log_df['intubed'].value_counts()\n",
    "log_df.head(5)"
   ]
  },
  {
   "cell_type": "code",
   "execution_count": 149,
   "metadata": {},
   "outputs": [
    {
     "data": {
      "text/plain": [
       "((3131, 17), (3131,))"
      ]
     },
     "execution_count": 149,
     "metadata": {},
     "output_type": "execute_result"
    }
   ],
   "source": [
    "# balance the dependent variable\n",
    "\n",
    "\n",
    "\n",
    "df1=log_df[log_df['died_bool']==0].sample(1566)\n",
    "df2=log_df[log_df['died_bool']==1][1:1566]\n",
    "\n",
    "frames=[df1,df2]\n",
    "df_new=pd.concat(frames)\n",
    "log_data=df_new.sample(frac=1)\n",
    "\n",
    "\n",
    "X=log_data.drop(columns=['died_bool'],axis=1)\n",
    "y=log_data['died_bool']\n",
    "\n",
    "X.shape,y.shape"
   ]
  },
  {
   "cell_type": "markdown",
   "metadata": {},
   "source": [
    "<h4> Model Building </h4>"
   ]
  },
  {
   "cell_type": "code",
   "execution_count": null,
   "metadata": {},
   "outputs": [],
   "source": [
    "import random\n",
    "random.seed(120)"
   ]
  },
  {
   "cell_type": "code",
   "execution_count": 160,
   "metadata": {},
   "outputs": [],
   "source": [
    "# Importing Libraries\n",
    "from sklearn.linear_model import LogisticRegression\n",
    "from sklearn.metrics import classification_report, confusion_matrix\n",
    "from sklearn.model_selection import train_test_split\n",
    "from sklearn import metrics"
   ]
  },
  {
   "cell_type": "code",
   "execution_count": 161,
   "metadata": {},
   "outputs": [
    {
     "name": "stdout",
     "output_type": "stream",
     "text": [
      "X_train shape: (2191, 17)\n",
      "y_train shape: (2191,)\n",
      "X_test shape: (940, 17)\n",
      "y_test shape: (940,)\n"
     ]
    }
   ],
   "source": [
    "# Creating test and train dataset\n",
    "X_train, X_test, y_train, y_test = train_test_split(X, y, test_size=0.3, random_state=0)\n",
    "print(\"X_train shape: {}\".format(X_train.shape))  \n",
    "print(\"y_train shape: {}\".format(y_train.shape))\n",
    "print(\"X_test shape: {}\".format(X_test.shape))\n",
    "print(\"y_test shape: {}\".format(y_test.shape))"
   ]
  },
  {
   "cell_type": "code",
   "execution_count": 162,
   "metadata": {},
   "outputs": [],
   "source": [
    "from sklearn import preprocessing\n",
    "scaler = preprocessing.StandardScaler().fit(X_train)\n",
    "X_train = scaler.transform(X_train)\n",
    "X_test = scaler.transform(X_test)"
   ]
  },
  {
   "cell_type": "code",
   "execution_count": 163,
   "metadata": {},
   "outputs": [],
   "source": [
    "# Fiting the logistic regression model with death flag as dependent\n",
    "logistic_regression= LogisticRegression()\n",
    "result=logistic_regression.fit(X_train,y_train)\n",
    "y_pred=logistic_regression.predict(X_test)\n"
   ]
  },
  {
   "cell_type": "code",
   "execution_count": 164,
   "metadata": {},
   "outputs": [
    {
     "data": {
      "text/html": [
       "<div>\n",
       "<style scoped>\n",
       "    .dataframe tbody tr th:only-of-type {\n",
       "        vertical-align: middle;\n",
       "    }\n",
       "\n",
       "    .dataframe tbody tr th {\n",
       "        vertical-align: top;\n",
       "    }\n",
       "\n",
       "    .dataframe thead th {\n",
       "        text-align: right;\n",
       "    }\n",
       "</style>\n",
       "<table border=\"1\" class=\"dataframe\">\n",
       "  <thead>\n",
       "    <tr style=\"text-align: right;\">\n",
       "      <th>Predicted</th>\n",
       "      <th>0</th>\n",
       "      <th>1</th>\n",
       "    </tr>\n",
       "    <tr>\n",
       "      <th>Actual</th>\n",
       "      <th></th>\n",
       "      <th></th>\n",
       "    </tr>\n",
       "  </thead>\n",
       "  <tbody>\n",
       "    <tr>\n",
       "      <th>0</th>\n",
       "      <td>355</td>\n",
       "      <td>127</td>\n",
       "    </tr>\n",
       "    <tr>\n",
       "      <th>1</th>\n",
       "      <td>136</td>\n",
       "      <td>322</td>\n",
       "    </tr>\n",
       "  </tbody>\n",
       "</table>\n",
       "</div>"
      ],
      "text/plain": [
       "Predicted    0    1\n",
       "Actual             \n",
       "0          355  127\n",
       "1          136  322"
      ]
     },
     "execution_count": 164,
     "metadata": {},
     "output_type": "execute_result"
    },
    {
     "name": "stdout",
     "output_type": "stream",
     "text": [
      "Accuracy:  0.7202127659574468\n"
     ]
    }
   ],
   "source": [
    "confusion_matrix = pd.crosstab(y_test, y_pred, rownames=['Actual'], colnames=['Predicted'])\n",
    "confusion_matrix\n",
    "print('Accuracy: ',metrics.accuracy_score(y_test, y_pred))\n",
    "plt.show()"
   ]
  },
  {
   "cell_type": "code",
   "execution_count": 195,
   "metadata": {
    "scrolled": false
   },
   "outputs": [
    {
     "name": "stdout",
     "output_type": "stream",
     "text": [
      "Optimization terminated successfully.\n",
      "         Current function value: 0.602698\n",
      "         Iterations 7\n"
     ]
    },
    {
     "data": {
      "text/html": [
       "<table class=\"simpletable\">\n",
       "<caption>Logit Regression Results</caption>\n",
       "<tr>\n",
       "  <th>Dep. Variable:</th>       <td>died_bool</td>    <th>  No. Observations:  </th>  <td>  2504</td>  \n",
       "</tr>\n",
       "<tr>\n",
       "  <th>Model:</th>                 <td>Logit</td>      <th>  Df Residuals:      </th>  <td>  2491</td>  \n",
       "</tr>\n",
       "<tr>\n",
       "  <th>Method:</th>                 <td>MLE</td>       <th>  Df Model:          </th>  <td>    12</td>  \n",
       "</tr>\n",
       "<tr>\n",
       "  <th>Date:</th>            <td>Mon, 14 Dec 2020</td> <th>  Pseudo R-squ.:     </th>  <td>0.1305</td>  \n",
       "</tr>\n",
       "<tr>\n",
       "  <th>Time:</th>                <td>16:20:14</td>     <th>  Log-Likelihood:    </th> <td> -1509.2</td> \n",
       "</tr>\n",
       "<tr>\n",
       "  <th>converged:</th>             <td>True</td>       <th>  LL-Null:           </th> <td> -1735.6</td> \n",
       "</tr>\n",
       "<tr>\n",
       "  <th>Covariance Type:</th>     <td>nonrobust</td>    <th>  LLR p-value:       </th> <td>2.217e-89</td>\n",
       "</tr>\n",
       "</table>\n",
       "<table class=\"simpletable\">\n",
       "<tr>\n",
       "         <td></td>           <th>coef</th>     <th>std err</th>      <th>z</th>      <th>P>|z|</th>  <th>[0.025</th>    <th>0.975]</th>  \n",
       "</tr>\n",
       "<tr>\n",
       "  <th>Intercept</th>      <td>   -3.5556</td> <td>    0.209</td> <td>  -17.050</td> <td> 0.000</td> <td>   -3.964</td> <td>   -3.147</td>\n",
       "</tr>\n",
       "<tr>\n",
       "  <th>age</th>            <td>    0.0386</td> <td>    0.003</td> <td>   13.148</td> <td> 0.000</td> <td>    0.033</td> <td>    0.044</td>\n",
       "</tr>\n",
       "<tr>\n",
       "  <th>asthma</th>         <td>    0.0220</td> <td>    0.042</td> <td>    0.523</td> <td> 0.601</td> <td>   -0.060</td> <td>    0.104</td>\n",
       "</tr>\n",
       "<tr>\n",
       "  <th>pneumonia</th>      <td>    1.6125</td> <td>    0.127</td> <td>   12.658</td> <td> 0.000</td> <td>    1.363</td> <td>    1.862</td>\n",
       "</tr>\n",
       "<tr>\n",
       "  <th>diabetes</th>       <td>   -0.0393</td> <td>    0.036</td> <td>   -1.105</td> <td> 0.269</td> <td>   -0.109</td> <td>    0.030</td>\n",
       "</tr>\n",
       "<tr>\n",
       "  <th>copd</th>           <td>    0.0419</td> <td>    0.040</td> <td>    1.055</td> <td> 0.292</td> <td>   -0.036</td> <td>    0.120</td>\n",
       "</tr>\n",
       "<tr>\n",
       "  <th>inmsupr</th>        <td>   -0.0705</td> <td>    0.060</td> <td>   -1.182</td> <td> 0.237</td> <td>   -0.187</td> <td>    0.046</td>\n",
       "</tr>\n",
       "<tr>\n",
       "  <th>hypertension</th>   <td>    0.0410</td> <td>    0.041</td> <td>    0.991</td> <td> 0.322</td> <td>   -0.040</td> <td>    0.122</td>\n",
       "</tr>\n",
       "<tr>\n",
       "  <th>other_disease</th>  <td>    0.0003</td> <td>    0.007</td> <td>    0.049</td> <td> 0.961</td> <td>   -0.013</td> <td>    0.013</td>\n",
       "</tr>\n",
       "<tr>\n",
       "  <th>cardiovascular</th> <td>    0.0113</td> <td>    0.019</td> <td>    0.609</td> <td> 0.543</td> <td>   -0.025</td> <td>    0.048</td>\n",
       "</tr>\n",
       "<tr>\n",
       "  <th>obesity</th>        <td>    0.0214</td> <td>    0.017</td> <td>    1.267</td> <td> 0.205</td> <td>   -0.012</td> <td>    0.055</td>\n",
       "</tr>\n",
       "<tr>\n",
       "  <th>renal_chronic</th>  <td>    0.0063</td> <td>    0.018</td> <td>    0.344</td> <td> 0.731</td> <td>   -0.030</td> <td>    0.042</td>\n",
       "</tr>\n",
       "<tr>\n",
       "  <th>tobacco</th>        <td>    0.0020</td> <td>    0.014</td> <td>    0.146</td> <td> 0.884</td> <td>   -0.025</td> <td>    0.029</td>\n",
       "</tr>\n",
       "</table>"
      ],
      "text/plain": [
       "<class 'statsmodels.iolib.summary.Summary'>\n",
       "\"\"\"\n",
       "                           Logit Regression Results                           \n",
       "==============================================================================\n",
       "Dep. Variable:              died_bool   No. Observations:                 2504\n",
       "Model:                          Logit   Df Residuals:                     2491\n",
       "Method:                           MLE   Df Model:                           12\n",
       "Date:                Mon, 14 Dec 2020   Pseudo R-squ.:                  0.1305\n",
       "Time:                        16:20:14   Log-Likelihood:                -1509.2\n",
       "converged:                       True   LL-Null:                       -1735.6\n",
       "Covariance Type:            nonrobust   LLR p-value:                 2.217e-89\n",
       "==================================================================================\n",
       "                     coef    std err          z      P>|z|      [0.025      0.975]\n",
       "----------------------------------------------------------------------------------\n",
       "Intercept         -3.5556      0.209    -17.050      0.000      -3.964      -3.147\n",
       "age                0.0386      0.003     13.148      0.000       0.033       0.044\n",
       "asthma             0.0220      0.042      0.523      0.601      -0.060       0.104\n",
       "pneumonia          1.6125      0.127     12.658      0.000       1.363       1.862\n",
       "diabetes          -0.0393      0.036     -1.105      0.269      -0.109       0.030\n",
       "copd               0.0419      0.040      1.055      0.292      -0.036       0.120\n",
       "inmsupr           -0.0705      0.060     -1.182      0.237      -0.187       0.046\n",
       "hypertension       0.0410      0.041      0.991      0.322      -0.040       0.122\n",
       "other_disease      0.0003      0.007      0.049      0.961      -0.013       0.013\n",
       "cardiovascular     0.0113      0.019      0.609      0.543      -0.025       0.048\n",
       "obesity            0.0214      0.017      1.267      0.205      -0.012       0.055\n",
       "renal_chronic      0.0063      0.018      0.344      0.731      -0.030       0.042\n",
       "tobacco            0.0020      0.014      0.146      0.884      -0.025       0.029\n",
       "==================================================================================\n",
       "\"\"\""
      ]
     },
     "execution_count": 195,
     "metadata": {},
     "output_type": "execute_result"
    }
   ],
   "source": [
    "# Trying another method to get the summary statistics on each pre-existing condition on the death flag\n",
    "\n",
    "import statsmodels.api as sm\n",
    "from statsmodels.formula.api import logit\n",
    "import statsmodels.formula.api as smf\n",
    "\n",
    "\n",
    "\n",
    "train_data,test_data = train_test_split(log_data,test_size=0.2)\n",
    "\n",
    "formula=('died_bool ~ age+asthma+pneumonia+diabetes+copd+inmsupr+hypertension+other_disease +cardiovascular+obesity+renal_chronic+tobacco')\n",
    "\n",
    "        \n",
    "model = logit(formula=formula, data=train_data).fit()\n",
    "model.summary()\n"
   ]
  },
  {
   "cell_type": "markdown",
   "metadata": {},
   "source": [
    "<h4> \n",
    "From prelimanary results with 70% accuracy, I observe that people with pre-existing pneumonia, have odds 155% of dying, provided that they have same age and same pre-existing conditions. For Obesity odds of dying is – 21%\n",
    "For age, one year increase in age will lead to approximately 4% increase in odds of dying.<br/>\n",
    "Hence, logistic model suggests us that patients medical history can tell us a lot about the severity of COVID-19 symptoms and can predict patients with risks of high mortality rate"
   ]
  },
  {
   "cell_type": "markdown",
   "metadata": {},
   "source": [
    "<h2> Conclusions</h2>\n",
    "<ul>\n",
    "    <li>People above age of 60 ; with pre-existing condition of Pneumonia and COPD are at really high risk of dying if tested positive for COVID-19</li>\n",
    "    <li>Intubation rates for patients with above characteristics are not satisfactory which suggests either hospitals do not have resources or they lack methods or knowledge to appropriately allocate resources to high risk prone patients</li>\n",
    "    <li>Acceptable accuracy of prelimanary logistic model suggests us that patients medical history can tell us a lot about the severity of COVID-19 symptoms and hospitals must utilize this data to forecast the cases and their severity , which can help in preparation of medical care resources beforehand and act as an proactive measure for hospitals rather than preventative</li>\n",
    "    </ul>"
   ]
  },
  {
   "cell_type": "markdown",
   "metadata": {},
   "source": [
    "<h2> Limitations and Implications </h2>\n",
    "Procuring patient data of COVID-19 patients containing patient-specific information regarding patient history and habits is extremely hard. This is mainly due to the regulatory security laws such as HIPAA and GDPR which makes it almost impossible for anyone to get hands-on PHI data. The dataset was released by the Mexican government which contains a huge number of anonymised patient-related information.\n",
    "Also, this dataset only contains the information on some of the many diseases that can have relationship with COVID-19 severity and results must be consumed keeping limitations under scope"
   ]
  },
  {
   "cell_type": "markdown",
   "metadata": {},
   "source": [
    "<h2><p style=\"font-family: times, serif; font-style:italic\"> Appendix</p></h2>"
   ]
  },
  {
   "cell_type": "code",
   "execution_count": 180,
   "metadata": {},
   "outputs": [
    {
     "data": {
      "text/plain": [
       "<matplotlib.axes._subplots.AxesSubplot at 0x1f49b4a8ac8>"
      ]
     },
     "execution_count": 180,
     "metadata": {},
     "output_type": "execute_result"
    },
    {
     "data": {
      "image/png": "[encoded data removed]",
      "text/plain": [
       "<Figure size 842.4x595.44 with 1 Axes>"
      ]
     },
     "metadata": {},
     "output_type": "display_data"
    }
   ],
   "source": [
    "intubed = covid_df.groupby([\"covid_res\", \"intubed\"])[\"id\"].count()\n",
    "res1 = covid_df['covid_res'].value_counts()\n",
    "(intubed.div(res1, level='covid_res') * 100).plot(kind='bar')\n"
   ]
  },
  {
   "cell_type": "code",
   "execution_count": 200,
   "metadata": {},
   "outputs": [
    {
     "data": {
      "text/plain": [
       "<Figure size 504x504 with 0 Axes>"
      ]
     },
     "execution_count": 200,
     "metadata": {},
     "output_type": "execute_result"
    },
    {
     "data": {
      "image/png": "[encoded data removed]",
      "text/plain": [
       "<Figure size 504x504 with 1 Axes>"
      ]
     },
     "metadata": {
      "needs_background": "light"
     },
     "output_type": "display_data"
    }
   ],
   "source": [
    "#now lets see the number of males and females wrt to covid results\n",
    "plt.figure(figsize=(7,7))\n",
    "ax = sns.countplot(covid_df['sex'],hue=df['covid_res'])\n"
   ]
  },
  {
   "cell_type": "code",
   "execution_count": 112,
   "metadata": {},
   "outputs": [
    {
     "data": {
      "text/plain": [
       "<Figure size 576x576 with 0 Axes>"
      ]
     },
     "execution_count": 112,
     "metadata": {},
     "output_type": "execute_result"
    },
    {
     "data": {
      "text/plain": [
       "<matplotlib.axes._subplots.AxesSubplot at 0x14a217f4288>"
      ]
     },
     "execution_count": 112,
     "metadata": {},
     "output_type": "execute_result"
    },
    {
     "data": {
      "image/png": "[encoded data removed]",
      "text/plain": [
       "<Figure size 576x576 with 1 Axes>"
      ]
     },
     "metadata": {
      "needs_background": "light"
     },
     "output_type": "display_data"
    }
   ],
   "source": [
    "#now lets see the age group of patients wrt to covid results\n",
    "plt.figure(figsize=(8,8))\n",
    "sns.countplot(covid_df['age_bucket'],hue=covid_df['covid_res'], order=[\"less than 18\", \"between 18 and 30\", \"between 30 and 60\", \"60 above\"])"
   ]
  },
  {
   "cell_type": "code",
   "execution_count": null,
   "metadata": {},
   "outputs": [],
   "source": [
    "train_data,test_data = train_test_split(log_data,test_size=0.2)\n",
    "model = smf.glm(data = train_data,\n",
    "                   formula = formula,\n",
    "                   family=sm.families.Binomial())\n",
    "result = model.fit()\n",
    "print(result.summary())"
   ]
  }
 ],
 "metadata": {
  "kernelspec": {
   "display_name": "Python 3",
   "language": "python",
   "name": "python3"
  },
  "language_info": {
   "codemirror_mode": {
    "name": "ipython",
    "version": 3
   },
   "file_extension": ".py",
   "mimetype": "text/x-python",
   "name": "python",
   "nbconvert_exporter": "python",
   "pygments_lexer": "ipython3",
   "version": "3.7.6"
  }
 },
 "nbformat": 4,
 "nbformat_minor": 4
}
